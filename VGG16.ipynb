{
 "cells": [
  {
   "attachments": {},
   "cell_type": "markdown",
   "metadata": {
    "id": "Y6DyphAUEBOi"
   },
   "source": [
    "# Assignment 1: Deep learning with VGG16 {-}\n",
    "\n",
    "Name: Nguyen Hoang An\n",
    "ID: 200011\n",
    "\n",
    "This assignment aims at familiarizing you with training and testing VGG16 neural network. Here are the BASIC requirements of the assignment:\n",
    "\n",
    "- Load the data.\n",
    "- Process, normalize and resize the images.\n",
    "- Build VGG16 model to perform an image classification task.\n",
    "- Evaluate the performance of the model.\n",
    "\n",
    "The dataset you will be working on is MNIST dataset. This is a dataset of 60,000 28x28 grayscale images of the 10 digits, along with a test set of 10,000 images.\n",
    "\n",
    "### Submission {-}\n",
    "The structure of submission folder should be organized as follows:\n",
    "\n",
    "- ./\\<StudentID>-assignment5-notebook.ipynb: Jupyter notebook containing source code.\n",
    "\n",
    "The submission folder is named ML4DS-\\<StudentID>-Assignment5 (e.g., ML4DS-2012345-Assigment5) and then compressed with the same name.\n",
    "    \n",
    "### Evaluation {-}\n",
    "Assignment evaluation will be conducted on how you accomplish the assignment requirements. It is a plus if you have modeling steps other than the basic requirements and achieve an excellent model accuracy. In addition, your code should conform to a Python coding convention such as PEP-8.\n",
    "\n",
    "### Deadline {-}\n",
    "Please visit Canvas for details.\n",
    "\n",
    "### Reference {-}:\n",
    "- Simonyan, K., and Zisserman, A. 2014b. Very deep convolutional networks for large-scale image recognition. arXiv preprint arXiv:1409.1556, https://arxiv.org/abs/1409.1556."
   ]
  },
  {
   "cell_type": "markdown",
   "metadata": {
    "id": "L2l2tYgIEBOr"
   },
   "source": [
    "## VGG16 architecture\n",
    "\n",
    "![alt text](https://docs.google.com/uc?export=download&id=1XdD7iJxllG1XDwJA5LhOUp5R7LX3ltJr)\n",
    "\n",
    "![alt text](https://docs.google.com/uc?export=download&id=1PUJN_QSgcvIR8yYX9tWM12nohwGMgfIu)\n",
    "\n",
    "Some characteristics of the VGG16 architecture:\n",
    "- Kernel size of all convolutional layers is 3x3.\n",
    "- Numbers of filters of every block are sequentially 64, 128, 256, 512, 512 as in the figure.\n",
    "- All activation functions are ReLUs, except the output layer which uses softmax.\n",
    "- Dropout probability used after dense layers is 0.5.\n",
    "- Assume that the input size is **32x32x1**."
   ]
  },
  {
   "cell_type": "code",
   "execution_count": 1,
   "metadata": {
    "id": "o7yiMO-bEBOl"
   },
   "outputs": [
    {
     "name": "stderr",
     "output_type": "stream",
     "text": [
      "2023-03-30 17:36:21.516036: I tensorflow/core/platform/cpu_feature_guard.cc:193] This TensorFlow binary is optimized with oneAPI Deep Neural Network Library (oneDNN) to use the following CPU instructions in performance-critical operations:  SSE4.1 SSE4.2 AVX AVX2 FMA\n",
      "To enable them in other operations, rebuild TensorFlow with the appropriate compiler flags.\n"
     ]
    }
   ],
   "source": [
    "# Import libraries\n",
    "import tensorflow as tf\n",
    "from tensorflow import keras\n",
    "import numpy as np\n",
    "import matplotlib.pyplot as plt\n",
    "import cv2"
   ]
  },
  {
   "cell_type": "code",
   "execution_count": 2,
   "metadata": {
    "id": "M6_ZhoDnfROl"
   },
   "outputs": [
    {
     "name": "stdout",
     "output_type": "stream",
     "text": [
      "Downloading data from https://storage.googleapis.com/tensorflow/tf-keras-datasets/mnist.npz\n",
      "11490434/11490434 [==============================] - 12s 1us/step\n"
     ]
    }
   ],
   "source": [
    "# Load the MNIST dataset and split train/test\n",
    "(X_train, y_train), (X_test, y_test) = keras.datasets.mnist.load_data()"
   ]
  },
  {
   "cell_type": "code",
   "execution_count": 3,
   "metadata": {
    "colab": {
     "base_uri": "https://localhost:8080/"
    },
    "id": "v9EqVmHqfoL9",
    "outputId": "ca637aed-799e-4c9b-a0a5-20a720d49f44"
   },
   "outputs": [
    {
     "name": "stdout",
     "output_type": "stream",
     "text": [
      "Train shape: X_train = (60000, 28, 28), y_train = (60000,)\n",
      "Test shape: X_test = (10000, 28, 28), y_test = (10000,)\n"
     ]
    }
   ],
   "source": [
    "# Show shape of the training and test data\n",
    "print(\"Train shape: X_train = \" + str(X_train.shape) + \", y_train = \" + str(y_train.shape))\n",
    "print(\"Test shape: X_test = \" + str(X_test.shape) + \", y_test = \" + str(y_test.shape))"
   ]
  },
  {
   "cell_type": "code",
   "execution_count": 4,
   "metadata": {
    "collapsed": false
   },
   "outputs": [],
   "source": [
    "def to_rgb(img):\n",
    "    img = cv2.resize(img, (32,32), interpolation = cv2.INTER_AREA)\n",
    "    img_rgb = np.asarray(np.dstack((img, img, img)), dtype=np.uint8)\n",
    "    return img_rgb"
   ]
  },
  {
   "cell_type": "code",
   "execution_count": 5,
   "metadata": {
    "colab": {
     "base_uri": "https://localhost:8080/",
     "height": 282
    },
    "id": "-c0ukRSVgAZS",
    "outputId": "1fa75b74-9b4f-4e77-b541-90aba47b8980"
   },
   "outputs": [
    {
     "data": {
      "image/png": "[encoded data removed]",
      "text/plain": [
       "<Figure size 640x480 with 1 Axes>"
      ]
     },
     "metadata": {},
     "output_type": "display_data"
    }
   ],
   "source": [
    "# Install OpenCV library to process images.\n",
    "# !pip3 install opencv-python\n",
    "\n",
    "### Resize an image\n",
    "X_train_rgb = []\n",
    "for i in range(len(X_train)):\n",
    "    rgb = to_rgb(X_train[i])\n",
    "    X_train_rgb.append(rgb)\n",
    "\n",
    "X_test_rgb = []\n",
    "for i in range(len(X_test)):\n",
    "    rgb = to_rgb(X_test[i])\n",
    "    X_test_rgb.append(rgb)\n",
    "\n",
    "# Show an image\n",
    "plt.imshow(X_train_rgb[1])\n",
    "plt.show()"
   ]
  },
  {
   "cell_type": "code",
   "execution_count": 6,
   "metadata": {
    "collapsed": false
   },
   "outputs": [],
   "source": [
    "X_train = np.squeeze(np.stack([X_train_rgb],axis=4), axis=4)/255.0\n",
    "X_test = np.squeeze(np.stack([X_test_rgb],axis=4), axis=4)/255.0"
   ]
  },
  {
   "cell_type": "code",
   "execution_count": 7,
   "metadata": {
    "collapsed": false
   },
   "outputs": [
    {
     "name": "stdout",
     "output_type": "stream",
     "text": [
      "Train shape: X_train = (54000, 32, 32, 3), y_train = (54000,)\n",
      "Val shape: X_val = (6000, 32, 32, 3), y_val = (6000,)\n",
      "Test shape: X_test = (10000, 32, 32, 3), y_test = (10000,)\n"
     ]
    }
   ],
   "source": [
    "# Split train/valid from the training set\n",
    "from sklearn.model_selection import train_test_split\n",
    "X_train, X_val, y_train, y_val = train_test_split(X_train, y_train, test_size=0.1, random_state=5)\n",
    "\n",
    "print(\"Train shape: X_train = \" + str(X_train.shape) + \", y_train = \" + str(y_train.shape))\n",
    "print(\"Val shape: X_val = \" + str(X_val.shape) + \", y_val = \" + str(y_val.shape))\n",
    "print(\"Test shape: X_test = \" + str(X_test.shape) + \", y_test = \" + str(y_test.shape))"
   ]
  },
  {
   "cell_type": "markdown",
   "metadata": {
    "collapsed": false
   },
   "source": [
    "## Build VGG16 Model"
   ]
  },
  {
   "cell_type": "code",
   "execution_count": 8,
   "metadata": {
    "collapsed": false
   },
   "outputs": [],
   "source": [
    "from keras.models import Sequential\n",
    "from keras.layers import Dense, Activation, Dropout, Flatten, Conv2D, MaxPooling2D, BatchNormalization"
   ]
  },
  {
   "cell_type": "code",
   "execution_count": 9,
   "metadata": {
    "collapsed": false
   },
   "outputs": [
    {
     "name": "stderr",
     "output_type": "stream",
     "text": [
      "2023-03-30 17:36:54.340858: I tensorflow/compiler/xla/stream_executor/cuda/cuda_gpu_executor.cc:981] successful NUMA node read from SysFS had negative value (-1), but there must be at least one NUMA node, so returning NUMA node zero\n",
      "2023-03-30 17:36:54.370477: I tensorflow/compiler/xla/stream_executor/cuda/cuda_gpu_executor.cc:981] successful NUMA node read from SysFS had negative value (-1), but there must be at least one NUMA node, so returning NUMA node zero\n",
      "2023-03-30 17:36:54.370674: I tensorflow/compiler/xla/stream_executor/cuda/cuda_gpu_executor.cc:981] successful NUMA node read from SysFS had negative value (-1), but there must be at least one NUMA node, so returning NUMA node zero\n",
      "2023-03-30 17:36:54.371190: I tensorflow/core/platform/cpu_feature_guard.cc:193] This TensorFlow binary is optimized with oneAPI Deep Neural Network Library (oneDNN) to use the following CPU instructions in performance-critical operations:  SSE4.1 SSE4.2 AVX AVX2 FMA\n",
      "To enable them in other operations, rebuild TensorFlow with the appropriate compiler flags.\n",
      "2023-03-30 17:36:54.371907: I tensorflow/compiler/xla/stream_executor/cuda/cuda_gpu_executor.cc:981] successful NUMA node read from SysFS had negative value (-1), but there must be at least one NUMA node, so returning NUMA node zero\n",
      "2023-03-30 17:36:54.372080: I tensorflow/compiler/xla/stream_executor/cuda/cuda_gpu_executor.cc:981] successful NUMA node read from SysFS had negative value (-1), but there must be at least one NUMA node, so returning NUMA node zero\n",
      "2023-03-30 17:36:54.372225: I tensorflow/compiler/xla/stream_executor/cuda/cuda_gpu_executor.cc:981] successful NUMA node read from SysFS had negative value (-1), but there must be at least one NUMA node, so returning NUMA node zero\n",
      "2023-03-30 17:36:54.794633: I tensorflow/compiler/xla/stream_executor/cuda/cuda_gpu_executor.cc:981] successful NUMA node read from SysFS had negative value (-1), but there must be at least one NUMA node, so returning NUMA node zero\n",
      "2023-03-30 17:36:54.794812: I tensorflow/compiler/xla/stream_executor/cuda/cuda_gpu_executor.cc:981] successful NUMA node read from SysFS had negative value (-1), but there must be at least one NUMA node, so returning NUMA node zero\n",
      "2023-03-30 17:36:54.794954: I tensorflow/compiler/xla/stream_executor/cuda/cuda_gpu_executor.cc:981] successful NUMA node read from SysFS had negative value (-1), but there must be at least one NUMA node, so returning NUMA node zero\n",
      "2023-03-30 17:36:54.795060: I tensorflow/core/common_runtime/gpu/gpu_device.cc:1613] Created device /job:localhost/replica:0/task:0/device:GPU:0 with 2611 MB memory:  -> device: 0, name: NVIDIA GeForce GTX 1650, pci bus id: 0000:01:00.0, compute capability: 7.5\n"
     ]
    },
    {
     "name": "stdout",
     "output_type": "stream",
     "text": [
      "Model: \"VGG16\"\n",
      "_________________________________________________________________\n",
      " Layer (type)                Output Shape              Param #   \n",
      "=================================================================\n",
      " Block_1_Conv1 (Conv2D)      (None, 32, 32, 64)        1792      \n",
      "                                                                 \n",
      " Block_1_Conv2 (Conv2D)      (None, 32, 32, 64)        36928     \n",
      "                                                                 \n",
      " Block_1_MaxPool (MaxPooling  (None, 16, 16, 64)       0         \n",
      " 2D)                                                             \n",
      "                                                                 \n",
      " Block_2_Conv1 (Conv2D)      (None, 16, 16, 128)       73856     \n",
      "                                                                 \n",
      " Block_2_Conv2 (Conv2D)      (None, 16, 16, 128)       147584    \n",
      "                                                                 \n",
      " Block_2_MaxPool (MaxPooling  (None, 8, 8, 128)        0         \n",
      " 2D)                                                             \n",
      "                                                                 \n",
      " Block_3_Conv1 (Conv2D)      (None, 8, 8, 256)         295168    \n",
      "                                                                 \n",
      " Block_3_Conv2 (Conv2D)      (None, 8, 8, 256)         590080    \n",
      "                                                                 \n",
      " Block_3_MaxPool (MaxPooling  (None, 4, 4, 256)        0         \n",
      " 2D)                                                             \n",
      "                                                                 \n",
      " Block_4_Conv1 (Conv2D)      (None, 4, 4, 512)         1180160   \n",
      "                                                                 \n",
      " Block_4_Conv2 (Conv2D)      (None, 4, 4, 512)         2359808   \n",
      "                                                                 \n",
      " Block_4_Conv3 (Conv2D)      (None, 4, 4, 512)         2359808   \n",
      "                                                                 \n",
      " Block_4_MaxPool (MaxPooling  (None, 2, 2, 512)        0         \n",
      " 2D)                                                             \n",
      "                                                                 \n",
      " Block_5_Conv1 (Conv2D)      (None, 2, 2, 512)         2359808   \n",
      "                                                                 \n",
      " Block_5_Conv2 (Conv2D)      (None, 2, 2, 512)         2359808   \n",
      "                                                                 \n",
      " Block_5_Conv3 (Conv2D)      (None, 2, 2, 512)         2359808   \n",
      "                                                                 \n",
      " Block_5_MaxPool (MaxPooling  (None, 1, 1, 512)        0         \n",
      " 2D)                                                             \n",
      "                                                                 \n",
      " flatten (Flatten)           (None, 512)               0         \n",
      "                                                                 \n",
      " dense (Dense)               (None, 4096)              2101248   \n",
      "                                                                 \n",
      " dropout (Dropout)           (None, 4096)              0         \n",
      "                                                                 \n",
      " dense_1 (Dense)             (None, 4096)              16781312  \n",
      "                                                                 \n",
      " batch_normalization (BatchN  (None, 4096)             16384     \n",
      " ormalization)                                                   \n",
      "                                                                 \n",
      " dropout_1 (Dropout)         (None, 4096)              0         \n",
      "                                                                 \n",
      " dense_2 (Dense)             (None, 1000)              4097000   \n",
      "                                                                 \n",
      " batch_normalization_1 (Batc  (None, 1000)             4000      \n",
      " hNormalization)                                                 \n",
      "                                                                 \n",
      " dropout_2 (Dropout)         (None, 1000)              0         \n",
      "                                                                 \n",
      " dense_3 (Dense)             (None, 10)                10010     \n",
      "                                                                 \n",
      "=================================================================\n",
      "Total params: 37,134,562\n",
      "Trainable params: 37,124,370\n",
      "Non-trainable params: 10,192\n",
      "_________________________________________________________________\n"
     ]
    }
   ],
   "source": [
    "VGG16 = Sequential(name='VGG16')\n",
    "\n",
    "# Block 1: 2X Conv + MaxPooling\n",
    "VGG16.add(Conv2D(filters=64, input_shape=(32,32,3), kernel_size=(3,3), strides=(1,1), padding='same', activation=\"relu\", name='Block_1_Conv1')) #Conv2D\n",
    "VGG16.add(Conv2D(filters=64, kernel_size=(3,3), strides=(1,1), padding='same', activation=\"relu\", name='Block_1_Conv2')) #Conv2D\n",
    "VGG16.add(MaxPooling2D(pool_size=(3,3), strides=(2,2), padding='same', name='Block_1_MaxPool')) #MaxPooling2D\n",
    "\n",
    "# Block 2: 2X Conv + MaxPooling\n",
    "VGG16.add(Conv2D(filters=128, input_shape=(16,16,64), kernel_size=(3,3), strides=(1,1), padding='same', activation=\"relu\", name='Block_2_Conv1')) #Conv2D\n",
    "VGG16.add(Conv2D(filters=128, kernel_size=(3,3), strides=(1,1), padding='same', activation=\"relu\", name='Block_2_Conv2')) #Conv2D\n",
    "VGG16.add(MaxPooling2D(pool_size=(3,3), strides=(2,2), padding='same', name='Block_2_MaxPool')) #MaxPooling2D\n",
    "\n",
    "# Block 3: 2X Conv + MaxPooling\n",
    "VGG16.add(Conv2D(filters=256, input_shape=(8,8,256), kernel_size=(3,3), strides=(1,1), padding='same', activation=\"relu\", name='Block_3_Conv1')) #Conv2D\n",
    "VGG16.add(Conv2D(filters=256, kernel_size=(3,3), strides=(1,1), padding='same', activation=\"relu\", name='Block_3_Conv2')) #Conv2D\n",
    "VGG16.add(MaxPooling2D(pool_size=(3,3), strides=(2,2), padding='same', name='Block_3_MaxPool')) #MaxPooling2D\n",
    "\n",
    "# Block 4: 3X Conv + MaxPooling\n",
    "VGG16.add(Conv2D(filters=512, input_shape=(4,4,512), kernel_size=(3,3), strides=(1,1), padding='same', activation=\"relu\", name='Block_4_Conv1')) #Conv2D\n",
    "VGG16.add(Conv2D(filters=512, kernel_size=(3,3), strides=(1,1), padding='same', activation=\"relu\", name='Block_4_Conv2')) #Conv2D\n",
    "VGG16.add(Conv2D(filters=512, kernel_size=(3,3), strides=(1,1), padding='same', activation=\"relu\", name='Block_4_Conv3')) #Conv2D\n",
    "VGG16.add(MaxPooling2D(pool_size=(3,3), strides=(2,2), padding='same', name='Block_4_MaxPool')) #MaxPooling2D\n",
    "\n",
    "# Block 5: 3X Conv + MaxPooling\n",
    "VGG16.add(Conv2D(filters=512, input_shape=(2,2,512), kernel_size=(3,3), strides=(1,1), padding='same', activation=\"relu\", name='Block_5_Conv1')) #Conv2D\n",
    "VGG16.add(Conv2D(filters=512, kernel_size=(3,3), strides=(1,1), padding='same', activation=\"relu\", name='Block_5_Conv2')) #Conv2D\n",
    "VGG16.add(Conv2D(filters=512, kernel_size=(3,3), strides=(1,1), padding='same', activation=\"relu\", name='Block_5_Conv3')) #Conv2D\n",
    "VGG16.add(MaxPooling2D(pool_size=(3,3), strides=(2,2), padding='same', name='Block_5_MaxPool')) #MaxPooling2D\n",
    "\n",
    "# Flatten\n",
    "VGG16.add(Flatten())\n",
    "\n",
    "# Fully connected (FC) layer 1\n",
    "VGG16.add(Dense(units=4096, activation=\"relu\"))\n",
    "VGG16.add(Dropout(rate=0.4)) # Dropout with drop rate\n",
    "\n",
    "# Fully connected (FC) layer 2\n",
    "VGG16.add(Dense(units=4096, activation=\"relu\"))\n",
    "VGG16.add(BatchNormalization())\n",
    "VGG16.add(Dropout(rate=0.4)) # Dropout with drop rate\n",
    "\n",
    "# Fully connected (FC) layer 1\n",
    "VGG16.add(Dense(units=1000, activation=\"relu\"))\n",
    "VGG16.add(BatchNormalization())\n",
    "VGG16.add(Dropout(rate=0.4)) # Dropout with drop rate\n",
    "\n",
    "# Fully connected (FC) layer 3\n",
    "VGG16.add(Dense(units=10, activation=\"softmax\")) # Number of output classes: 10 number from 0 -> 9\n",
    "\n",
    "#Model Summary\n",
    "VGG16.summary()"
   ]
  },
  {
   "cell_type": "code",
   "execution_count": 10,
   "metadata": {
    "collapsed": false
   },
   "outputs": [],
   "source": [
    "# Compile the model\n",
    "VGG16.compile(loss = tf.keras.losses.sparse_categorical_crossentropy, # Define loss function\n",
    "                optimizer= tf.keras.optimizers.Adam(learning_rate=5e-5), metrics=['accuracy']) # Define initial learning rate and metrics."
   ]
  },
  {
   "cell_type": "markdown",
   "metadata": {
    "collapsed": false
   },
   "source": [
    "## Train"
   ]
  },
  {
   "cell_type": "code",
   "execution_count": 11,
   "metadata": {
    "collapsed": false
   },
   "outputs": [
    {
     "name": "stdout",
     "output_type": "stream",
     "text": [
      "[name: \"/device:CPU:0\"\n",
      "device_type: \"CPU\"\n",
      "memory_limit: 268435456\n",
      "locality {\n",
      "}\n",
      "incarnation: 9846504719814566011\n",
      "xla_global_id: -1\n",
      ", name: \"/device:GPU:0\"\n",
      "device_type: \"GPU\"\n",
      "memory_limit: 2737963008\n",
      "locality {\n",
      "  bus_id: 1\n",
      "  links {\n",
      "  }\n",
      "}\n",
      "incarnation: 1625153251507218665\n",
      "physical_device_desc: \"device: 0, name: NVIDIA GeForce GTX 1650, pci bus id: 0000:01:00.0, compute capability: 7.5\"\n",
      "xla_global_id: 416903419\n",
      "]\n"
     ]
    },
    {
     "name": "stderr",
     "output_type": "stream",
     "text": [
      "2023-03-30 17:37:01.494055: I tensorflow/compiler/xla/stream_executor/cuda/cuda_gpu_executor.cc:981] successful NUMA node read from SysFS had negative value (-1), but there must be at least one NUMA node, so returning NUMA node zero\n",
      "2023-03-30 17:37:01.494349: I tensorflow/compiler/xla/stream_executor/cuda/cuda_gpu_executor.cc:981] successful NUMA node read from SysFS had negative value (-1), but there must be at least one NUMA node, so returning NUMA node zero\n",
      "2023-03-30 17:37:01.494492: I tensorflow/compiler/xla/stream_executor/cuda/cuda_gpu_executor.cc:981] successful NUMA node read from SysFS had negative value (-1), but there must be at least one NUMA node, so returning NUMA node zero\n",
      "2023-03-30 17:37:01.494722: I tensorflow/compiler/xla/stream_executor/cuda/cuda_gpu_executor.cc:981] successful NUMA node read from SysFS had negative value (-1), but there must be at least one NUMA node, so returning NUMA node zero\n",
      "2023-03-30 17:37:01.494936: I tensorflow/compiler/xla/stream_executor/cuda/cuda_gpu_executor.cc:981] successful NUMA node read from SysFS had negative value (-1), but there must be at least one NUMA node, so returning NUMA node zero\n",
      "2023-03-30 17:37:01.495052: I tensorflow/core/common_runtime/gpu/gpu_device.cc:1613] Created device /device:GPU:0 with 2611 MB memory:  -> device: 0, name: NVIDIA GeForce GTX 1650, pci bus id: 0000:01:00.0, compute capability: 7.5\n"
     ]
    }
   ],
   "source": [
    "from tensorflow.python.client import device_lib\n",
    "print(device_lib.list_local_devices())"
   ]
  },
  {
   "cell_type": "code",
   "execution_count": 14,
   "metadata": {
    "collapsed": false
   },
   "outputs": [],
   "source": [
    "tf.debugging.set_log_device_placement(True)"
   ]
  },
  {
   "cell_type": "code",
   "execution_count": 12,
   "metadata": {
    "collapsed": false
   },
   "outputs": [
    {
     "name": "stderr",
     "output_type": "stream",
     "text": [
      "2023-03-30 17:37:15.861599: W tensorflow/tsl/framework/cpu_allocator_impl.cc:82] Allocation of 663552000 exceeds 10% of free system memory.\n",
      "2023-03-30 17:37:16.416905: W tensorflow/tsl/framework/cpu_allocator_impl.cc:82] Allocation of 663552000 exceeds 10% of free system memory.\n"
     ]
    },
    {
     "name": "stdout",
     "output_type": "stream",
     "text": [
      "Epoch 1/20\n"
     ]
    },
    {
     "name": "stderr",
     "output_type": "stream",
     "text": [
      "2023-03-30 17:37:18.902947: I tensorflow/compiler/xla/stream_executor/cuda/cuda_dnn.cc:428] Loaded cuDNN version 8401\n",
      "2023-03-30 17:37:20.463721: W tensorflow/tsl/framework/bfc_allocator.cc:290] Allocator (GPU_0_bfc) ran out of memory trying to allocate 1.18GiB with freed_by_count=0. The caller indicates that this is not a failure, but this may mean that there could be performance gains if more memory were available.\n",
      "2023-03-30 17:37:20.464431: W tensorflow/tsl/framework/bfc_allocator.cc:290] Allocator (GPU_0_bfc) ran out of memory trying to allocate 1.18GiB with freed_by_count=0. The caller indicates that this is not a failure, but this may mean that there could be performance gains if more memory were available.\n",
      "2023-03-30 17:37:20.857362: W tensorflow/tsl/framework/bfc_allocator.cc:290] Allocator (GPU_0_bfc) ran out of memory trying to allocate 1.14GiB with freed_by_count=0. The caller indicates that this is not a failure, but this may mean that there could be performance gains if more memory were available.\n",
      "2023-03-30 17:37:21.005397: W tensorflow/tsl/framework/bfc_allocator.cc:290] Allocator (GPU_0_bfc) ran out of memory trying to allocate 1.18GiB with freed_by_count=0. The caller indicates that this is not a failure, but this may mean that there could be performance gains if more memory were available.\n",
      "2023-03-30 17:37:23.560159: W tensorflow/tsl/framework/bfc_allocator.cc:290] Allocator (GPU_0_bfc) ran out of memory trying to allocate 1.34GiB with freed_by_count=0. The caller indicates that this is not a failure, but this may mean that there could be performance gains if more memory were available.\n",
      "2023-03-30 17:37:24.941476: I tensorflow/compiler/xla/service/service.cc:173] XLA service 0x7f9accbbb340 initialized for platform CUDA (this does not guarantee that XLA will be used). Devices:\n",
      "2023-03-30 17:37:24.941511: I tensorflow/compiler/xla/service/service.cc:181]   StreamExecutor device (0): NVIDIA GeForce GTX 1650, Compute Capability 7.5\n",
      "2023-03-30 17:37:24.963372: I tensorflow/compiler/mlir/tensorflow/utils/dump_mlir_util.cc:268] disabling MLIR crash reproducer, set env var `MLIR_CRASH_REPRODUCER_DIRECTORY` to enable.\n",
      "2023-03-30 17:37:25.156097: I tensorflow/compiler/jit/xla_compilation_cache.cc:477] Compiled cluster using XLA!  This line is logged at most once for the lifetime of the process.\n",
      "2023-03-30 17:37:27.515476: W tensorflow/tsl/framework/bfc_allocator.cc:290] Allocator (GPU_0_bfc) ran out of memory trying to allocate 1.14GiB with freed_by_count=0. The caller indicates that this is not a failure, but this may mean that there could be performance gains if more memory were available.\n",
      "2023-03-30 17:37:27.515515: W tensorflow/tsl/framework/bfc_allocator.cc:290] Allocator (GPU_0_bfc) ran out of memory trying to allocate 1.14GiB with freed_by_count=0. The caller indicates that this is not a failure, but this may mean that there could be performance gains if more memory were available.\n",
      "2023-03-30 17:37:27.515526: W tensorflow/tsl/framework/bfc_allocator.cc:290] Allocator (GPU_0_bfc) ran out of memory trying to allocate 1.14GiB with freed_by_count=0. The caller indicates that this is not a failure, but this may mean that there could be performance gains if more memory were available.\n",
      "2023-03-30 17:37:27.884495: W tensorflow/tsl/framework/bfc_allocator.cc:290] Allocator (GPU_0_bfc) ran out of memory trying to allocate 1.15GiB with freed_by_count=0. The caller indicates that this is not a failure, but this may mean that there could be performance gains if more memory were available.\n",
      "2023-03-30 17:37:27.884531: W tensorflow/tsl/framework/bfc_allocator.cc:290] Allocator (GPU_0_bfc) ran out of memory trying to allocate 1.15GiB with freed_by_count=0. The caller indicates that this is not a failure, but this may mean that there could be performance gains if more memory were available.\n"
     ]
    },
    {
     "name": "stdout",
     "output_type": "stream",
     "text": [
      "106/106 [==============================] - 81s 551ms/step - loss: 0.4996 - accuracy: 0.8297 - val_loss: 2.2519 - val_accuracy: 0.7730\n",
      "Epoch 2/20\n",
      "106/106 [==============================] - 45s 420ms/step - loss: 0.0626 - accuracy: 0.9804 - val_loss: 2.1396 - val_accuracy: 0.8435\n",
      "Epoch 3/20\n",
      "106/106 [==============================] - 45s 422ms/step - loss: 0.0449 - accuracy: 0.9860 - val_loss: 1.8189 - val_accuracy: 0.9043\n",
      "Epoch 4/20\n",
      "106/106 [==============================] - 45s 423ms/step - loss: 0.0378 - accuracy: 0.9882 - val_loss: 1.1228 - val_accuracy: 0.9828\n",
      "Epoch 5/20\n",
      "106/106 [==============================] - 45s 423ms/step - loss: 0.0267 - accuracy: 0.9915 - val_loss: 0.2864 - val_accuracy: 0.9825\n",
      "Epoch 6/20\n",
      "106/106 [==============================] - 45s 423ms/step - loss: 0.0222 - accuracy: 0.9931 - val_loss: 0.0864 - val_accuracy: 0.9803\n",
      "Epoch 7/20\n",
      "106/106 [==============================] - 45s 424ms/step - loss: 0.0189 - accuracy: 0.9937 - val_loss: 0.0693 - val_accuracy: 0.9793\n",
      "Epoch 8/20\n",
      "106/106 [==============================] - 45s 425ms/step - loss: 0.0163 - accuracy: 0.9945 - val_loss: 0.0482 - val_accuracy: 0.9860\n",
      "Epoch 9/20\n",
      "106/106 [==============================] - 44s 420ms/step - loss: 0.0178 - accuracy: 0.9941 - val_loss: 0.1153 - val_accuracy: 0.9728\n",
      "Epoch 10/20\n",
      "106/106 [==============================] - 45s 420ms/step - loss: 0.0139 - accuracy: 0.9955 - val_loss: 0.0486 - val_accuracy: 0.9857\n",
      "Epoch 11/20\n",
      "106/106 [==============================] - 45s 420ms/step - loss: 0.0133 - accuracy: 0.9951 - val_loss: 0.0808 - val_accuracy: 0.9802\n",
      "Epoch 12/20\n",
      "106/106 [==============================] - 45s 420ms/step - loss: 0.0101 - accuracy: 0.9968 - val_loss: 0.0797 - val_accuracy: 0.9803\n",
      "Epoch 13/20\n",
      "106/106 [==============================] - 45s 426ms/step - loss: 0.0075 - accuracy: 0.9975 - val_loss: 0.0313 - val_accuracy: 0.9927\n",
      "Epoch 14/20\n",
      "106/106 [==============================] - 45s 421ms/step - loss: 0.0094 - accuracy: 0.9968 - val_loss: 0.0698 - val_accuracy: 0.9863\n",
      "Epoch 15/20\n",
      "106/106 [==============================] - 45s 422ms/step - loss: 0.0064 - accuracy: 0.9980 - val_loss: 0.1078 - val_accuracy: 0.9737\n",
      "Epoch 16/20\n",
      "106/106 [==============================] - 45s 422ms/step - loss: 0.0067 - accuracy: 0.9977 - val_loss: 0.1108 - val_accuracy: 0.9755\n",
      "Epoch 17/20\n",
      "106/106 [==============================] - 45s 421ms/step - loss: 0.0085 - accuracy: 0.9972 - val_loss: 0.0457 - val_accuracy: 0.9885\n",
      "Epoch 18/20\n",
      "106/106 [==============================] - 45s 421ms/step - loss: 0.0061 - accuracy: 0.9981 - val_loss: 0.0738 - val_accuracy: 0.9832\n",
      "Epoch 19/20\n",
      "106/106 [==============================] - 45s 420ms/step - loss: 0.0085 - accuracy: 0.9969 - val_loss: 0.4792 - val_accuracy: 0.9028\n",
      "Epoch 20/20\n",
      "106/106 [==============================] - 44s 420ms/step - loss: 0.0062 - accuracy: 0.9978 - val_loss: 0.0675 - val_accuracy: 0.9852\n"
     ]
    }
   ],
   "source": [
    "mc = keras.callbacks.ModelCheckpoint(filepath=\"epoch-{epoch:02d}.hdf5\", # Path to save the model\n",
    "                                     monitor='val_loss', # Metric to evaluate the model performance when looking for a better model.\n",
    "                                     mode='min', # mode='auto'/'max'/'min': the monitor should be max/min to be better.\n",
    "                                                 # In auto mode, the mode is set to max if the quantities monitored are 'acc' or start with 'fmeasure' (f-score) and are set to min for the rest of the quantities.\n",
    "                                     verbose=0, # Inform every time a better model is found and saved.\n",
    "                                     save_best_only=True) # Only save the model if the current training epoch is the best. 'False' means save models of all training epochs\n",
    "\n",
    "# Train the model. Using Colab for training\n",
    "history = VGG16.fit(X_train, y_train, # Data feature and data label\n",
    "                    batch_size=512, # Batch size\n",
    "                    epochs=20, # Number of training epochs\n",
    "                    validation_data=(X_val, y_val), # Validation set\n",
    "                    callbacks=[mc]) # Use callback ModelCheckpoint during the training"
   ]
  },
  {
   "cell_type": "code",
   "execution_count": 13,
   "metadata": {
    "collapsed": false
   },
   "outputs": [
    {
     "data": {
      "text/plain": [
       "<matplotlib.legend.Legend at 0x7f9e4c3640d0>"
      ]
     },
     "execution_count": 13,
     "metadata": {},
     "output_type": "execute_result"
    },
    {
     "data": {
      "image/png": "[encoded data removed]",
      "text/plain": [
       "<Figure size 640x480 with 2 Axes>"
      ]
     },
     "metadata": {},
     "output_type": "display_data"
    }
   ],
   "source": [
    "# Visualize training and validation performance\n",
    "f,ax=plt.subplots(2,1)\n",
    "\n",
    "# Plot training and validation loss\n",
    "ax[0].plot(history.history['loss'], color='b',label='Training Loss')\n",
    "ax[0].plot(history.history['val_loss'],color='r',label='Validation Loss')\n",
    "\n",
    "# Plot training and validation accuracy\n",
    "ax[1].plot(history.history['accuracy'],color='b',label='Training Accuracy')\n",
    "ax[1].plot(history.history['val_accuracy'],color='r',label='Validation Accuracy')\n",
    "\n",
    "plt.legend()"
   ]
  },
  {
   "cell_type": "code",
   "execution_count": 16,
   "metadata": {
    "collapsed": false
   },
   "outputs": [
    {
     "name": "stderr",
     "output_type": "stream",
     "text": [
      "2023-03-30 17:55:15.892783: W tensorflow/tsl/framework/cpu_allocator_impl.cc:82] Allocation of 122880000 exceeds 10% of free system memory.\n",
      "2023-03-30 17:55:16.020895: W tensorflow/tsl/framework/cpu_allocator_impl.cc:82] Allocation of 122880000 exceeds 10% of free system memory.\n"
     ]
    },
    {
     "name": "stdout",
     "output_type": "stream",
     "text": [
      "313/313 [==============================] - 6s 17ms/step - loss: 0.0769 - accuracy: 0.9837\n"
     ]
    }
   ],
   "source": [
    "# Let us load a saved model and evaluate its performance on the test set\n",
    "model = tf.keras.models.load_model(\"/home/hoangan/Documents/Code/python_project/spring_22_23/deep_learning/Assignment-1-DeepLearning/ML4DS-200011-Assignment1/epoch-13.hdf5\")\n",
    "result = VGG16.evaluate(X_test, y_test) # If unspecified, batch_size will default to 32"
   ]
  },
  {
   "cell_type": "code",
   "execution_count": 17,
   "metadata": {
    "collapsed": false
   },
   "outputs": [
    {
     "name": "stdout",
     "output_type": "stream",
     "text": [
      "['loss', 'accuracy']\n",
      "Loss and accuracy on the test set: loss = 0.07688332349061966, accuracy = 0.9836999773979187\n"
     ]
    }
   ],
   "source": [
    "# Show the model performance\n",
    "print(VGG16.metrics_names) # result[0] is loss, result[1] is accuracy. The metrics are defined in AlexNet.complie(...)\n",
    "print(\"Loss and accuracy on the test set: loss = {}, accuracy = {}\".format(result[0],result[1]))"
   ]
  },
  {
   "cell_type": "code",
   "execution_count": 18,
   "metadata": {
    "collapsed": false
   },
   "outputs": [
    {
     "name": "stdout",
     "output_type": "stream",
     "text": [
      "1/1 [==============================] - 1s 608ms/step\n",
      "Prediction Number: 2\n"
     ]
    },
    {
     "data": {
      "image/png": "[encoded data removed]",
      "text/plain": [
       "<Figure size 640x480 with 1 Axes>"
      ]
     },
     "metadata": {},
     "output_type": "display_data"
    }
   ],
   "source": [
    "pic_number = 2108\n",
    "pred = VGG16.predict(X_test[pic_number:pic_number+1])\n",
    "print(\"Prediction Number:\", np.argmax(pred, axis=1)[0])\n",
    "plt.imshow(X_test[pic_number])\n",
    "plt.show()"
   ]
  },
  {
   "cell_type": "markdown",
   "metadata": {
    "collapsed": false
   },
   "source": []
  }
 ],
 "metadata": {
  "accelerator": "GPU",
  "colab": {
   "collapsed_sections": [],
   "provenance": []
  },
  "kernelspec": {
   "display_name": "Python 3 (ipykernel)",
   "language": "python",
   "name": "python3"
  },
  "language_info": {
   "codemirror_mode": {
    "name": "ipython",
    "version": 3
   },
   "file_extension": ".py",
   "mimetype": "text/x-python",
   "name": "python",
   "nbconvert_exporter": "python",
   "pygments_lexer": "ipython3",
   "version": "3.9.16"
  }
 },
 "nbformat": 4,
 "nbformat_minor": 4
}
